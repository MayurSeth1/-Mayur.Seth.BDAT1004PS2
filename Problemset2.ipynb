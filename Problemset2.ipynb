{
 "cells": [
  {
   "cell_type": "markdown",
   "id": "e6242bab",
   "metadata": {},
   "source": [
    "<H4>Question 1\n",
    "Consider the following Python module:</h4>\n",
    "    <li>a = 0</li>\n",
    "    <li>def b():</li>\n",
    "    <li> global a</li>\n",
    "    <li>a = c(a)</li>\n",
    "    <li>def c(a):</li>\n",
    "    <li> return a + 2</li>\n",
    "After importing the module into the interpreter, you execute:\n",
    "<li>>>> b()</li>\n",
    "<li>>>> b()</li>\n",
    "<li>>>> b()</li>\n",
    "<li>>>> a</li>\n",
    "<li>?</li>\n",
    "What value is displayed when the last expression (a) is evaluated? Explain your \n",
    "answer by indicating what happens in every executed statement\n"
   ]
  },
  {
   "cell_type": "code",
   "execution_count": 1,
   "id": "81bb6caf",
   "metadata": {},
   "outputs": [],
   "source": [
    "a = 0\n",
    "def b():\n",
    "    global a\n",
    "    a = c(a)\n",
    "def c(a):\n",
    "    return a + 2"
   ]
  },
  {
   "cell_type": "code",
   "execution_count": 2,
   "id": "7e2dcb7b",
   "metadata": {},
   "outputs": [],
   "source": [
    "b()"
   ]
  },
  {
   "cell_type": "code",
   "execution_count": 3,
   "id": "3a27d66f",
   "metadata": {},
   "outputs": [],
   "source": [
    "b()"
   ]
  },
  {
   "cell_type": "code",
   "execution_count": 4,
   "id": "5bfb0445",
   "metadata": {},
   "outputs": [],
   "source": [
    "b()"
   ]
  },
  {
   "cell_type": "code",
   "execution_count": 5,
   "id": "86c205a7",
   "metadata": {},
   "outputs": [
    {
     "data": {
      "text/plain": [
       "6"
      ]
     },
     "execution_count": 5,
     "metadata": {},
     "output_type": "execute_result"
    }
   ],
   "source": [
    "a"
   ]
  },
  {
   "cell_type": "markdown",
   "id": "307f6d04",
   "metadata": {},
   "source": [
    "<h2>Explaination</h2>a is defined as global variable which means it is a static variable and the whole program will use only one copy of a.\n",
    "In function b() we are calling global variable a and passing its value to function c(). In function c() we are adding 2 to global variable a.\n",
    "When first time function b() is called it calls function c() passing value of a as 0. Function c() adds 2 to a making its end value as 2.\n",
    "Next time when function b() is called, it takes value of a as 2, passes 2 to function c() which makes its value as 4. \n",
    "Similarly, in last call function c() gets value of a as 4, which makes it as 6, and when we print a it gives output as 6.\n"
   ]
  },
  {
   "cell_type": "markdown",
   "id": "0cc86804",
   "metadata": {},
   "source": [
    "<h4>Question 2\n",
    "    Function fileLength(), given to you, takes the name of a file as input and returns \n",
    "the length of the file:</h4>\n",
    "<li>>>> fileLength('midterm.py') </li>\n",
    "<li>284 </li>\n",
    "<li>>>> fileLength('idterm.py')</li>\n",
    "<li>Traceback (most recent call last):</li>\n",
    "<li>File \"<pyshell#34>\", line 1, in <module></li>\n",
    " <li>fileLength('idterm.py')</li>\n",
    "<li>File \"/Users/me/midterm.py\", line 3, in fileLength</li>\n",
    " <li>infile = open(filename)</li>\n",
    "<li>FileNotFoundError: [Errno 2] No such file or directory: </li>\n",
    "<li>'idterm.py'</li>\n",
    "As shown above, if the file cannot be found by the interpreter or if it cannot be read \n",
    "as a text file, an exception will be raised. Modify function fileLength() so that a \n",
    "friendly message is printed instead:\n",
    "<li>>>> fileLength('midterm.py')</li>\n",
    "<li>358</li>\n",
    "<li>>>> fileLength('idterm.py')</li>\n",
    "<li>File idterm.py not found.</li>"
   ]
  },
  {
   "cell_type": "code",
   "execution_count": 2,
   "id": "84d36ff5",
   "metadata": {},
   "outputs": [],
   "source": [
    "def file_length(file_name):\n",
    "        try:\n",
    "            file = open(file_name)\n",
    "            contents = file.read()\n",
    "            file.close()\n",
    "            print(len(contents))\n",
    "        except:\n",
    "            print(\"File \" + file_name + \" not found.\")\n",
    "            exit"
   ]
  },
  {
   "cell_type": "code",
   "execution_count": 33,
   "id": "a4cb6c1e",
   "metadata": {},
   "outputs": [
    {
     "name": "stdout",
     "output_type": "stream",
     "text": [
      "123\n"
     ]
    }
   ],
   "source": [
    "file_length('Filelength.txt')"
   ]
  },
  {
   "cell_type": "code",
   "execution_count": 8,
   "id": "41461bfc",
   "metadata": {},
   "outputs": [
    {
     "name": "stdout",
     "output_type": "stream",
     "text": [
      "File ilelength.txt not found.\n"
     ]
    }
   ],
   "source": [
    "file_length('ilelength.txt')"
   ]
  },
  {
   "cell_type": "markdown",
   "id": "c128bc06",
   "metadata": {},
   "source": [
    "<h4>Question 3 Write a class named Marsupial that can be used as shown below:</h4>\n",
    "<li>>>> m = Marsupial()</li>\n",
    "<li>>>> m.put_in_pouch('doll')</li>\n",
    "<li>>>> m.put_in_pouch('firetruck')</li>\n",
    "<li>>>> m.put_in_pouch('kitten')</li>\n",
    "<li>>>> m.pouch_contents()</li>\n",
    "['doll', 'firetruck', 'kitten']\n",
    "\n",
    "Now write a class named Kangaroo as a subclass of Marsupial that inherits all the \n",
    "attributes of Marsupial and also:\n",
    "<p>a. extends the Marsupial __init__ constructor to take, as input, the \n",
    "coordinates x and y of the Kangaroo object,\n",
    "<p>b. supports method jump that takes number values dx and dy as input and \n",
    "moves the kangaroo by dx units along the x-axis and by dy units along the y\u0002axis, and\n",
    "<p>c. overloads the __str__ operator so it behaves as shown below.\n",
    "<li>>>> k = Kangaroo(0,0)</li>\n",
    "<li>>>> print(k)</li>\n",
    "I am a Kangaroo located at coordinates (0,0)\n",
    "<li>>>> k.put_in_pouch('doll')</li>\n",
    "<li>>>> k.put_in_pouch('firetruck')</li>\n",
    "<li>>>> k.put_in_pouch('kitten')</li>\n",
    "<li>>>> k.pouch_contents()v\n",
    "['doll', 'firetruck', 'kitten']\n",
    "<li>>>> k.jump(1,0)</li>\n",
    "<li>>>> k.jump(1,0)</li>\n",
    "<li>>>> k.jump(1,0)</li>\n",
    "<li>>>> print(k)</li>\n",
    "I am a Kangaroo located at coordinates (3,0)"
   ]
  },
  {
   "cell_type": "code",
   "execution_count": 8,
   "id": "ca5ebe5a",
   "metadata": {},
   "outputs": [
    {
     "name": "stdout",
     "output_type": "stream",
     "text": [
      "['doll', 'firetruck', 'kitten']\n"
     ]
    }
   ],
   "source": [
    "from importlib.resources import contents\n",
    "class Marsupial():\n",
    "    contents = []\n",
    "    def __init__(self) -> None:\n",
    "        pass\n",
    "    def put_in_pouch(self, value):\n",
    "        self.contents.append(value)\n",
    "\n",
    "    def pouch_contents(self):\n",
    "        print(self.contents)\n",
    "\n",
    "m = Marsupial()\n",
    "m.put_in_pouch('doll')\n",
    "m.put_in_pouch('firetruck')\n",
    "m.put_in_pouch('kitten')\n",
    "m.pouch_contents()"
   ]
  },
  {
   "cell_type": "code",
   "execution_count": 9,
   "id": "c6346c9e",
   "metadata": {},
   "outputs": [
    {
     "name": "stdout",
     "output_type": "stream",
     "text": [
      "I am a Kangaroo located at coordinates (0,0)\n",
      "['doll', 'firetruck', 'kitten']\n",
      "I am a Kangaroo located at coordinates (3,0)\n"
     ]
    }
   ],
   "source": [
    "from importlib.resources import contents\n",
    "class Marsupial():\n",
    "    contents = []\n",
    "    def __init__(self, X, Y) -> None:\n",
    "        self.X = X\n",
    "        self.Y = Y\n",
    "\n",
    "    def __str__(self) -> str:\n",
    "        return \"I am a Kangaroo located at coordinates ({},{})\".format(self.X, self.Y)\n",
    "\n",
    "    def put_in_pouch(self, value):\n",
    "        self.contents.append(value)\n",
    "\n",
    "    def pouch_contents(self):\n",
    "        print(self.contents)\n",
    "\n",
    "class Kangaroo(Marsupial):\n",
    "    def __init__(self, X, Y) -> None:\n",
    "        super().__init__(X, Y)\n",
    "    \n",
    "    def jump(super,dx,dy):\n",
    "        super.X += dx\n",
    "        super.Y += dy\n",
    "    \n",
    "    def __str__(self) -> str:\n",
    "        return super().__str__()\n",
    "\n",
    "k = Kangaroo(0,0)\n",
    "print(k)\n",
    "\n",
    "k.put_in_pouch('doll')\n",
    "k.put_in_pouch('firetruck')\n",
    "k.put_in_pouch('kitten')\n",
    "k.pouch_contents()\n",
    "\n",
    "k.jump(1,0)\n",
    "k.jump(1,0)\n",
    "k.jump(1,0)\n",
    "print(k)\n"
   ]
  },
  {
   "cell_type": "markdown",
   "id": "dec81d39",
   "metadata": {},
   "source": [
    "<h4>Question 4\n",
    "Write function collatz() that takes a positive integer x as input and prints the \n",
    "Collatz sequence starting at x. A Collatz sequence is obtained by repeatedly applying \n",
    "this rule to the previous number x in the sequence:<h4>\n",
    "<p>x = {\n",
    "𝑥/2 𝑖𝑓 𝑥 𝑖𝑠 𝑒𝑣𝑒𝑛\n",
    "3𝑥 + 1 𝑖𝑓 𝑥 𝑖𝑠 𝑜𝑑𝑑</p>\n",
    "    <p>Your function should stop when the sequence gets to number</p>\n",
    "<p>Your implementation must be recursive, without any loops.</p>\n",
    "<li>>>> collatz(1)</li>\n",
    "<p>1</p>\n",
    "<li>>>> collatz(10)</li>\n",
    "<p>10</p>\n",
    "<p>5</p>\n",
    "<p>16</p>\n",
    "<p>8</p>\n",
    "<p>4</p>\n",
    "<p>2</p>\n",
    "<p>1</p>\n"
   ]
  },
  {
   "cell_type": "code",
   "execution_count": 15,
   "id": "ab009dc7",
   "metadata": {},
   "outputs": [
    {
     "name": "stdout",
     "output_type": "stream",
     "text": [
      "1\n"
     ]
    }
   ],
   "source": [
    "def collatz(x):\n",
    "    if(x == 1):\n",
    "        print(int(x))\n",
    "        return\n",
    "    \n",
    "    else:\n",
    "        if(x%2 == 0):\n",
    "            print(int(x))\n",
    "            collatz(x/2)\n",
    "        \n",
    "        else:\n",
    "            print(int(x))\n",
    "            collatz((3*x) + 1)\n",
    "            \n",
    "collatz(1)"
   ]
  },
  {
   "cell_type": "code",
   "execution_count": 16,
   "id": "34d9197d",
   "metadata": {},
   "outputs": [
    {
     "name": "stdout",
     "output_type": "stream",
     "text": [
      "10\n",
      "5\n",
      "16\n",
      "8\n",
      "4\n",
      "2\n",
      "1\n"
     ]
    }
   ],
   "source": [
    "collatz(10)"
   ]
  },
  {
   "cell_type": "markdown",
   "id": "6f18998a",
   "metadata": {},
   "source": [
    "<h4>Question 5\n",
    "Write a recursive method binary() that takes a non-negative \n",
    "integer n and prints the binary representation of integer n.</h4>\n",
    "<li>>>> binary(0) </li>\n",
    "0\n",
    "<li>>>> binary(1)</li>\n",
    "1\n",
    "<li>>>> binary(3)</li>\n",
    "11\n",
    "<li>>>> binary(9)</li>\n",
    "1001"
   ]
  },
  {
   "cell_type": "code",
   "execution_count": 17,
   "id": "3c9544ac",
   "metadata": {},
   "outputs": [
    {
     "name": "stdout",
     "output_type": "stream",
     "text": [
      "0"
     ]
    }
   ],
   "source": [
    "def binary(number):\n",
    "    if number < 0:\n",
    "        return\n",
    "\n",
    "    if number < 2:\n",
    "        print(int(number),end='')\n",
    "\n",
    "    else:\n",
    "        binary(number/2)\n",
    "        print(int(number%2),end='')\n",
    "\n",
    "\n",
    "binary(0)"
   ]
  },
  {
   "cell_type": "code",
   "execution_count": 18,
   "id": "24173c5f",
   "metadata": {},
   "outputs": [
    {
     "name": "stdout",
     "output_type": "stream",
     "text": [
      "1"
     ]
    }
   ],
   "source": [
    "binary(1)"
   ]
  },
  {
   "cell_type": "code",
   "execution_count": 19,
   "id": "7f5de5ae",
   "metadata": {},
   "outputs": [
    {
     "name": "stdout",
     "output_type": "stream",
     "text": [
      "11"
     ]
    }
   ],
   "source": [
    "binary(3)"
   ]
  },
  {
   "cell_type": "code",
   "execution_count": 20,
   "id": "54122991",
   "metadata": {},
   "outputs": [
    {
     "name": "stdout",
     "output_type": "stream",
     "text": [
      "1001"
     ]
    }
   ],
   "source": [
    "binary(9)"
   ]
  },
  {
   "cell_type": "markdown",
   "id": "5d6a6d51",
   "metadata": {},
   "source": [
    "<h4>Question 6\n",
    "Implement a class named HeadingParser that can be used to parse an HTML \n",
    "document, and retrieve and print all the headings in the document. You should \n",
    "implement your class as a subclass of HTMLParser, defined in Standard Library \n",
    "module html.parser. When fed a string containing HTML code, your class should \n",
    "print the headings, one per line and in the order in which they appear in the \n",
    "document. Each heading should be indented as follows: an h1 heading should have indentation 0, and h2 heading should have indentation 1, etc. Test your \n",
    "implementation using w3c.html.</h4>\n",
    "<p>>>> infile = open('w3c.html')</p>\n",
    "<p>>>> content = infile.read()</p>\n",
    "<p>>>> infile.close()</p>\n",
    "<p>>>> hp = HeadingParser()</p>\n",
    "<p>>>> hp.feed(content)</p>\n",
    "<p>W3C Mission</p>\n",
    "<p>Principles</p>"
   ]
  },
  {
   "cell_type": "code",
   "execution_count": 13,
   "id": "bfcb8fe6",
   "metadata": {},
   "outputs": [
    {
     "name": "stdout",
     "output_type": "stream",
     "text": [
      "W3C Mission\n",
      "\n",
      "\t\n",
      " Principles\n",
      " \n",
      " \n",
      "\n",
      "\n",
      "\n",
      " \n",
      "\n"
     ]
    }
   ],
   "source": [
    "from html.parser import HTMLParser\n",
    "class HeadingParser(HTMLParser):\n",
    "    def __init__(self):\n",
    "        HTMLParser.__init__(self)\n",
    "        self.tag=\" \"\n",
    "    \n",
    "    def handle_starttag(self, tag, attrs):\n",
    "        self.tag= tag\n",
    "    \n",
    "    def handle_data(self,data):\n",
    "        if self.tag == 'h1':\n",
    "            print(data)\n",
    "        elif self.tag == 'h2':\n",
    "            print(\" \"+data)\n",
    "infile = open('w3c.html')\n",
    "content = infile.read()\n",
    "infile.close()\n",
    "hp = HeadingParser()\n",
    "hp.feed(content)"
   ]
  },
  {
   "cell_type": "markdown",
   "id": "4fe584bb",
   "metadata": {},
   "source": [
    "<h4>Question 7\n",
    "Implement recursive function webdir() that takes as input: a URL (as a string) and \n",
    "non-negative integers depth and indent. Your function should visit every web \n",
    "page reachable from the starting URL web page in depth clicks or less, and print \n",
    "each web page's URL. As shown below, indentation, specified by indent, should \n",
    "be used to indicate the depth of a URL.</h4>\n",
    "<p>>>></p> \n",
    "webdir('http://reed.cs.depaul.edu/lperkovic/test1.html'\n",
    ", 2, 0)\n",
    "<p>http://reed.cs.depaul.edu/lperkovic/test1.html</p>\n",
    "<p> http://reed.cs.depaul.edu/lperkovic/test2.html</P>\n",
    "<p> http://reed.cs.depaul.edu/lperkovic/test4.html</p>\n",
    "<p> http://reed.cs.depaul.edu/lperkovic/test3.html</p>\n",
    "<p> http://reed.cs.depaul.edu/lperkovic/test4.html</p>"
   ]
  },
  {
   "cell_type": "code",
   "execution_count": 4,
   "id": "a8653eeb",
   "metadata": {},
   "outputs": [],
   "source": [
    "#reference from week 6 class notes\n",
    "from urllib.request import urlopen\n",
    "from urllib.parse import urljoin\n",
    "from html.parser import HTMLParser\n",
    "class Collector(HTMLParser):\n",
    "    'collects hyperlink URLs into a list'\n",
    "\n",
    "    def __init__(self, url):\n",
    "        'initializes parser, the url, and a list'\n",
    "        HTMLParser.__init__(self)\n",
    "        self.url = url\n",
    "        self.links = []\n",
    "\n",
    "    \n",
    "    def handle_starttag(self, tag, attrs):\n",
    "        'collects hyperlink URLs in their absolute format'\n",
    "        if tag == 'a':\n",
    "            for attr in attrs:\n",
    "                if attr[0] == 'href':\n",
    "                    # construct absolute URL\n",
    "                    absolute = urljoin(self.url, attr[1])\n",
    "                    if absolute[:4] == 'http': # collect HTTP URLs\n",
    "                        self.links.append(absolute)\n",
    "                        \n",
    "    def getLinks(self):\n",
    "        'returns hyperlinks URLs in their absolute format'\n",
    "        return self.links\n",
    "    \n"
   ]
  },
  {
   "cell_type": "code",
   "execution_count": 5,
   "id": "5e1f4925",
   "metadata": {},
   "outputs": [],
   "source": [
    "#reference from week 6 class notes\n",
    "visited = set() # initialize visited to an empty set\n",
    "\n",
    "def Webdir(url,depth,indent):\n",
    "    '''a recursive web crawler that calls analyze()\n",
    "       on every visited web page'''\n",
    "    content = urlopen(url).read().decode()\n",
    "    collector = Collector(url)\n",
    "    collector.feed(content)\n",
    "    urls = collector.getLinks()\n",
    "    print('{:45}'.format(url))\n",
    "\n",
    "    # add url to set of visited pages\n",
    "    global visited     # warns the programmer \n",
    "    visited.add(url)\n",
    "\n",
    "    # analyze() returns a list of hyperlink URLs in web page url \n",
    "    links = analyze(url)\n",
    "\n",
    "    # recursively continue crawl from every link in links\n",
    "    for link in links:\n",
    "        # follow link only if not visited\n",
    "        if link not in visited:\n",
    "            try:\n",
    "                Webdir(url,depth,indent)\n",
    "            except:\n",
    "                pass\n",
    "            \n",
    "            \n",
    "            "
   ]
  },
  {
   "cell_type": "code",
   "execution_count": 7,
   "id": "11943b1c",
   "metadata": {},
   "outputs": [
    {
     "name": "stdout",
     "output_type": "stream",
     "text": [
      "http://reed.cs.depaul.edu/lperkovic/test1.html\n"
     ]
    },
    {
     "ename": "NameError",
     "evalue": "name 'analyze' is not defined",
     "output_type": "error",
     "traceback": [
      "\u001b[1;31m---------------------------------------------------------------------------\u001b[0m",
      "\u001b[1;31mNameError\u001b[0m                                 Traceback (most recent call last)",
      "Input \u001b[1;32mIn [7]\u001b[0m, in \u001b[0;36m<cell line: 1>\u001b[1;34m()\u001b[0m\n\u001b[1;32m----> 1\u001b[0m \u001b[43mWebdir\u001b[49m\u001b[43m(\u001b[49m\u001b[38;5;124;43m'\u001b[39;49m\u001b[38;5;124;43mhttp://reed.cs.depaul.edu/lperkovic/test1.html\u001b[39;49m\u001b[38;5;124;43m'\u001b[39;49m\u001b[43m,\u001b[49m\u001b[38;5;241;43m2\u001b[39;49m\u001b[43m,\u001b[49m\u001b[38;5;241;43m0\u001b[39;49m\u001b[43m)\u001b[49m\n",
      "Input \u001b[1;32mIn [5]\u001b[0m, in \u001b[0;36mWebdir\u001b[1;34m(url, depth, indent)\u001b[0m\n\u001b[0;32m     14\u001b[0m visited\u001b[38;5;241m.\u001b[39madd(url)\n\u001b[0;32m     16\u001b[0m \u001b[38;5;66;03m# analyze() returns a list of hyperlink URLs in web page url \u001b[39;00m\n\u001b[1;32m---> 17\u001b[0m links \u001b[38;5;241m=\u001b[39m \u001b[43manalyze\u001b[49m(url)\n\u001b[0;32m     19\u001b[0m \u001b[38;5;66;03m# recursively continue crawl from every link in links\u001b[39;00m\n\u001b[0;32m     20\u001b[0m \u001b[38;5;28;01mfor\u001b[39;00m link \u001b[38;5;129;01min\u001b[39;00m links:\n\u001b[0;32m     21\u001b[0m     \u001b[38;5;66;03m# follow link only if not visited\u001b[39;00m\n",
      "\u001b[1;31mNameError\u001b[0m: name 'analyze' is not defined"
     ]
    }
   ],
   "source": [
    "Webdir('http://reed.cs.depaul.edu/lperkovic/test1.html',2,0)\n"
   ]
  },
  {
   "cell_type": "markdown",
   "id": "96dd6fb4",
   "metadata": {},
   "source": [
    "<h4>Question 8\n",
    "Write SQL queries on the below database table that return: </h4>\n",
    "<p>a) All the temperature data.</p>\n",
    "<p>b) All the cities, but without repetition.</p>\n",
    "<p>c) All the records for India.</p>\n",
    "<p>d) All the Fall records.</p>\n",
    "<p>e) The city, country, and season for which the average rainfall is between 200 \n",
    "and 400 millimeters.</p>\n",
    "<p>f) The city and country for which the average Fall temperature is above 20 \n",
    "degrees, in increasing temperature order.</p>\n",
    "<p>g) The total annual rainfall for Cairo.</p>\n",
    "<p>h) The total rainfall for each season.</p>"
   ]
  },
  {
   "cell_type": "code",
   "execution_count": 1,
   "id": "4ffe2db2",
   "metadata": {},
   "outputs": [
    {
     "name": "stdout",
     "output_type": "stream",
     "text": [
      "Collecting ipython-sql\n",
      "  Using cached ipython_sql-0.4.1-py3-none-any.whl (21 kB)\n",
      "Collecting prettytable<1\n",
      "  Using cached prettytable-0.7.2.zip (28 kB)\n",
      "Requirement already satisfied: six in c:\\users\\mayur seth\\anaconda3\\lib\\site-packages (from ipython-sql) (1.16.0)\n",
      "Requirement already satisfied: ipython-genutils>=0.1.0 in c:\\users\\mayur seth\\anaconda3\\lib\\site-packages (from ipython-sql) (0.2.0)\n",
      "Requirement already satisfied: ipython>=1.0 in c:\\users\\mayur seth\\anaconda3\\lib\\site-packages (from ipython-sql) (8.2.0)\n",
      "Collecting sqlparse\n",
      "  Using cached sqlparse-0.4.2-py3-none-any.whl (42 kB)\n",
      "Requirement already satisfied: sqlalchemy>=0.6.7 in c:\\users\\mayur seth\\anaconda3\\lib\\site-packages (from ipython-sql) (1.4.32)\n",
      "Requirement already satisfied: backcall in c:\\users\\mayur seth\\anaconda3\\lib\\site-packages (from ipython>=1.0->ipython-sql) (0.2.0)\n",
      "Requirement already satisfied: decorator in c:\\users\\mayur seth\\anaconda3\\lib\\site-packages (from ipython>=1.0->ipython-sql) (5.1.1)\n",
      "Requirement already satisfied: stack-data in c:\\users\\mayur seth\\anaconda3\\lib\\site-packages (from ipython>=1.0->ipython-sql) (0.2.0)\n",
      "Requirement already satisfied: prompt-toolkit!=3.0.0,!=3.0.1,<3.1.0,>=2.0.0 in c:\\users\\mayur seth\\anaconda3\\lib\\site-packages (from ipython>=1.0->ipython-sql) (3.0.20)\n",
      "Requirement already satisfied: pygments>=2.4.0 in c:\\users\\mayur seth\\anaconda3\\lib\\site-packages (from ipython>=1.0->ipython-sql) (2.11.2)\n",
      "Requirement already satisfied: colorama in c:\\users\\mayur seth\\anaconda3\\lib\\site-packages (from ipython>=1.0->ipython-sql) (0.4.4)\n",
      "Requirement already satisfied: jedi>=0.16 in c:\\users\\mayur seth\\anaconda3\\lib\\site-packages (from ipython>=1.0->ipython-sql) (0.18.1)\n",
      "Requirement already satisfied: pickleshare in c:\\users\\mayur seth\\anaconda3\\lib\\site-packages (from ipython>=1.0->ipython-sql) (0.7.5)\n",
      "Requirement already satisfied: setuptools>=18.5 in c:\\users\\mayur seth\\anaconda3\\lib\\site-packages (from ipython>=1.0->ipython-sql) (61.2.0)\n",
      "Requirement already satisfied: matplotlib-inline in c:\\users\\mayur seth\\anaconda3\\lib\\site-packages (from ipython>=1.0->ipython-sql) (0.1.2)\n",
      "Requirement already satisfied: traitlets>=5 in c:\\users\\mayur seth\\anaconda3\\lib\\site-packages (from ipython>=1.0->ipython-sql) (5.1.1)\n",
      "Requirement already satisfied: parso<0.9.0,>=0.8.0 in c:\\users\\mayur seth\\anaconda3\\lib\\site-packages (from jedi>=0.16->ipython>=1.0->ipython-sql) (0.8.3)\n",
      "Requirement already satisfied: wcwidth in c:\\users\\mayur seth\\anaconda3\\lib\\site-packages (from prompt-toolkit!=3.0.0,!=3.0.1,<3.1.0,>=2.0.0->ipython>=1.0->ipython-sql) (0.2.5)\n",
      "Requirement already satisfied: greenlet!=0.4.17 in c:\\users\\mayur seth\\anaconda3\\lib\\site-packages (from sqlalchemy>=0.6.7->ipython-sql) (1.1.1)\n",
      "Requirement already satisfied: pure-eval in c:\\users\\mayur seth\\anaconda3\\lib\\site-packages (from stack-data->ipython>=1.0->ipython-sql) (0.2.2)\n",
      "Requirement already satisfied: executing in c:\\users\\mayur seth\\anaconda3\\lib\\site-packages (from stack-data->ipython>=1.0->ipython-sql) (0.8.3)\n",
      "Requirement already satisfied: asttokens in c:\\users\\mayur seth\\anaconda3\\lib\\site-packages (from stack-data->ipython>=1.0->ipython-sql) (2.0.5)\n",
      "Building wheels for collected packages: prettytable\n",
      "  Building wheel for prettytable (setup.py): started\n",
      "  Building wheel for prettytable (setup.py): finished with status 'done'\n",
      "  Created wheel for prettytable: filename=prettytable-0.7.2-py3-none-any.whl size=13714 sha256=8de1c8bee3229c2b27d78bcb1991590520c0fa7a752618aca54a3f5b2c7afabe\n",
      "  Stored in directory: c:\\users\\mayur seth\\appdata\\local\\pip\\cache\\wheels\\75\\f7\\28\\77a076f1fa8cbeda61aca712815d04d7a32435f04a26a2dd7b\n",
      "Successfully built prettytable\n",
      "Installing collected packages: sqlparse, prettytable, ipython-sql\n",
      "Successfully installed ipython-sql-0.4.1 prettytable-0.7.2 sqlparse-0.4.2\n"
     ]
    }
   ],
   "source": [
    "!pip install ipython-sql"
   ]
  },
  {
   "cell_type": "code",
   "execution_count": 2,
   "id": "f873d853",
   "metadata": {},
   "outputs": [],
   "source": [
    "%load_ext sql\n",
    "%sql sqlite:///"
   ]
  },
  {
   "cell_type": "code",
   "execution_count": 3,
   "id": "3e2e6b0b",
   "metadata": {},
   "outputs": [
    {
     "name": "stdout",
     "output_type": "stream",
     "text": [
      " * sqlite:///\n",
      "Done.\n"
     ]
    },
    {
     "data": {
      "text/plain": [
       "[]"
      ]
     },
     "execution_count": 3,
     "metadata": {},
     "output_type": "execute_result"
    }
   ],
   "source": [
    "%%sql\n",
    "CREATE TABLE mayur(\n",
    "    city varchar(45),\n",
    "    country varchar(45),\n",
    "    season varchar(45),\n",
    "    temperature float(10),\n",
    "    rainfall  float(10)\n",
    ");"
   ]
  },
  {
   "cell_type": "code",
   "execution_count": 4,
   "id": "ecd5bd32",
   "metadata": {},
   "outputs": [
    {
     "name": "stdout",
     "output_type": "stream",
     "text": [
      " * sqlite:///\n",
      "12 rows affected.\n"
     ]
    },
    {
     "data": {
      "text/plain": [
       "[]"
      ]
     },
     "execution_count": 4,
     "metadata": {},
     "output_type": "execute_result"
    }
   ],
   "source": [
    "%%sql\n",
    "INSERT INTO mayur VALUES\n",
    "('Mumbai','India', 'winter','24.8','5.9'),\n",
    "('Mumbai','India', 'spring','28.4','16.2'),\n",
    "('Mumbai','India', 'summer','27.9','1549.4'),\n",
    "('Mumbai','India', 'fall','27.6','346.0'),\n",
    "('London','United Kingdom','winter','4.2','207.7'),\n",
    "('London','United Kingdom','sping','8.3','169.6'),\n",
    "('London','United Kingdom','summer','15.7','157.0'),\n",
    "('London','United Kingdom','fall','10.4','218.5'),\n",
    "('Cairo','Egypt', 'winter','13.6','16.5'),\n",
    "('Cairo','Egypt', 'spring','20.7','6.5'),\n",
    "('Cairo','Egypt', 'summer','27.7','0.1'),\n",
    "('Cairo','Egypt', 'fall','22.2','4.5'\n",
    ");"
   ]
  },
  {
   "cell_type": "code",
   "execution_count": 5,
   "id": "43eaf4ad",
   "metadata": {},
   "outputs": [
    {
     "name": "stdout",
     "output_type": "stream",
     "text": [
      " * sqlite:///\n",
      "Done.\n"
     ]
    },
    {
     "data": {
      "text/html": [
       "<table>\n",
       "    <tr>\n",
       "        <th>city</th>\n",
       "        <th>country</th>\n",
       "        <th>season</th>\n",
       "        <th>temperature</th>\n",
       "        <th>rainfall</th>\n",
       "    </tr>\n",
       "    <tr>\n",
       "        <td>Mumbai</td>\n",
       "        <td>India</td>\n",
       "        <td>winter</td>\n",
       "        <td>24.8</td>\n",
       "        <td>5.9</td>\n",
       "    </tr>\n",
       "    <tr>\n",
       "        <td>Mumbai</td>\n",
       "        <td>India</td>\n",
       "        <td>spring</td>\n",
       "        <td>28.4</td>\n",
       "        <td>16.2</td>\n",
       "    </tr>\n",
       "    <tr>\n",
       "        <td>Mumbai</td>\n",
       "        <td>India</td>\n",
       "        <td>summer</td>\n",
       "        <td>27.9</td>\n",
       "        <td>1549.4</td>\n",
       "    </tr>\n",
       "    <tr>\n",
       "        <td>Mumbai</td>\n",
       "        <td>India</td>\n",
       "        <td>fall</td>\n",
       "        <td>27.6</td>\n",
       "        <td>346.0</td>\n",
       "    </tr>\n",
       "    <tr>\n",
       "        <td>London</td>\n",
       "        <td>United Kingdom</td>\n",
       "        <td>winter</td>\n",
       "        <td>4.2</td>\n",
       "        <td>207.7</td>\n",
       "    </tr>\n",
       "    <tr>\n",
       "        <td>London</td>\n",
       "        <td>United Kingdom</td>\n",
       "        <td>sping</td>\n",
       "        <td>8.3</td>\n",
       "        <td>169.6</td>\n",
       "    </tr>\n",
       "    <tr>\n",
       "        <td>London</td>\n",
       "        <td>United Kingdom</td>\n",
       "        <td>summer</td>\n",
       "        <td>15.7</td>\n",
       "        <td>157.0</td>\n",
       "    </tr>\n",
       "    <tr>\n",
       "        <td>London</td>\n",
       "        <td>United Kingdom</td>\n",
       "        <td>fall</td>\n",
       "        <td>10.4</td>\n",
       "        <td>218.5</td>\n",
       "    </tr>\n",
       "    <tr>\n",
       "        <td>Cairo</td>\n",
       "        <td>Egypt</td>\n",
       "        <td>winter</td>\n",
       "        <td>13.6</td>\n",
       "        <td>16.5</td>\n",
       "    </tr>\n",
       "    <tr>\n",
       "        <td>Cairo</td>\n",
       "        <td>Egypt</td>\n",
       "        <td>spring</td>\n",
       "        <td>20.7</td>\n",
       "        <td>6.5</td>\n",
       "    </tr>\n",
       "    <tr>\n",
       "        <td>Cairo</td>\n",
       "        <td>Egypt</td>\n",
       "        <td>summer</td>\n",
       "        <td>27.7</td>\n",
       "        <td>0.1</td>\n",
       "    </tr>\n",
       "    <tr>\n",
       "        <td>Cairo</td>\n",
       "        <td>Egypt</td>\n",
       "        <td>fall</td>\n",
       "        <td>22.2</td>\n",
       "        <td>4.5</td>\n",
       "    </tr>\n",
       "</table>"
      ],
      "text/plain": [
       "[('Mumbai', 'India', 'winter', 24.8, 5.9),\n",
       " ('Mumbai', 'India', 'spring', 28.4, 16.2),\n",
       " ('Mumbai', 'India', 'summer', 27.9, 1549.4),\n",
       " ('Mumbai', 'India', 'fall', 27.6, 346.0),\n",
       " ('London', 'United Kingdom', 'winter', 4.2, 207.7),\n",
       " ('London', 'United Kingdom', 'sping', 8.3, 169.6),\n",
       " ('London', 'United Kingdom', 'summer', 15.7, 157.0),\n",
       " ('London', 'United Kingdom', 'fall', 10.4, 218.5),\n",
       " ('Cairo', 'Egypt', 'winter', 13.6, 16.5),\n",
       " ('Cairo', 'Egypt', 'spring', 20.7, 6.5),\n",
       " ('Cairo', 'Egypt', 'summer', 27.7, 0.1),\n",
       " ('Cairo', 'Egypt', 'fall', 22.2, 4.5)]"
      ]
     },
     "execution_count": 5,
     "metadata": {},
     "output_type": "execute_result"
    }
   ],
   "source": [
    "%sql select * from mayur;"
   ]
  },
  {
   "cell_type": "code",
   "execution_count": 6,
   "id": "85bf07c9",
   "metadata": {},
   "outputs": [
    {
     "name": "stdout",
     "output_type": "stream",
     "text": [
      " * sqlite:///\n",
      "Done.\n"
     ]
    },
    {
     "data": {
      "text/html": [
       "<table>\n",
       "    <tr>\n",
       "        <th>temperature</th>\n",
       "    </tr>\n",
       "    <tr>\n",
       "        <td>24.8</td>\n",
       "    </tr>\n",
       "    <tr>\n",
       "        <td>28.4</td>\n",
       "    </tr>\n",
       "    <tr>\n",
       "        <td>27.9</td>\n",
       "    </tr>\n",
       "    <tr>\n",
       "        <td>27.6</td>\n",
       "    </tr>\n",
       "    <tr>\n",
       "        <td>4.2</td>\n",
       "    </tr>\n",
       "    <tr>\n",
       "        <td>8.3</td>\n",
       "    </tr>\n",
       "    <tr>\n",
       "        <td>15.7</td>\n",
       "    </tr>\n",
       "    <tr>\n",
       "        <td>10.4</td>\n",
       "    </tr>\n",
       "    <tr>\n",
       "        <td>13.6</td>\n",
       "    </tr>\n",
       "    <tr>\n",
       "        <td>20.7</td>\n",
       "    </tr>\n",
       "    <tr>\n",
       "        <td>27.7</td>\n",
       "    </tr>\n",
       "    <tr>\n",
       "        <td>22.2</td>\n",
       "    </tr>\n",
       "</table>"
      ],
      "text/plain": [
       "[(24.8,),\n",
       " (28.4,),\n",
       " (27.9,),\n",
       " (27.6,),\n",
       " (4.2,),\n",
       " (8.3,),\n",
       " (15.7,),\n",
       " (10.4,),\n",
       " (13.6,),\n",
       " (20.7,),\n",
       " (27.7,),\n",
       " (22.2,)]"
      ]
     },
     "execution_count": 6,
     "metadata": {},
     "output_type": "execute_result"
    }
   ],
   "source": [
    "%sql select temperature from mayur;"
   ]
  },
  {
   "cell_type": "code",
   "execution_count": 7,
   "id": "06aebbf3",
   "metadata": {},
   "outputs": [
    {
     "name": "stdout",
     "output_type": "stream",
     "text": [
      " * sqlite:///\n",
      "Done.\n"
     ]
    },
    {
     "data": {
      "text/html": [
       "<table>\n",
       "    <tr>\n",
       "        <th>city</th>\n",
       "    </tr>\n",
       "    <tr>\n",
       "        <td>Mumbai</td>\n",
       "    </tr>\n",
       "    <tr>\n",
       "        <td>London</td>\n",
       "    </tr>\n",
       "    <tr>\n",
       "        <td>Cairo</td>\n",
       "    </tr>\n",
       "</table>"
      ],
      "text/plain": [
       "[('Mumbai',), ('London',), ('Cairo',)]"
      ]
     },
     "execution_count": 7,
     "metadata": {},
     "output_type": "execute_result"
    }
   ],
   "source": [
    "%sql select distinct city from mayur;"
   ]
  },
  {
   "cell_type": "code",
   "execution_count": 8,
   "id": "70955c56",
   "metadata": {},
   "outputs": [
    {
     "name": "stdout",
     "output_type": "stream",
     "text": [
      " * sqlite:///\n",
      "Done.\n"
     ]
    },
    {
     "data": {
      "text/html": [
       "<table>\n",
       "    <tr>\n",
       "        <th>city</th>\n",
       "        <th>country</th>\n",
       "        <th>season</th>\n",
       "        <th>temperature</th>\n",
       "        <th>rainfall</th>\n",
       "    </tr>\n",
       "    <tr>\n",
       "        <td>Mumbai</td>\n",
       "        <td>India</td>\n",
       "        <td>winter</td>\n",
       "        <td>24.8</td>\n",
       "        <td>5.9</td>\n",
       "    </tr>\n",
       "    <tr>\n",
       "        <td>Mumbai</td>\n",
       "        <td>India</td>\n",
       "        <td>spring</td>\n",
       "        <td>28.4</td>\n",
       "        <td>16.2</td>\n",
       "    </tr>\n",
       "    <tr>\n",
       "        <td>Mumbai</td>\n",
       "        <td>India</td>\n",
       "        <td>summer</td>\n",
       "        <td>27.9</td>\n",
       "        <td>1549.4</td>\n",
       "    </tr>\n",
       "    <tr>\n",
       "        <td>Mumbai</td>\n",
       "        <td>India</td>\n",
       "        <td>fall</td>\n",
       "        <td>27.6</td>\n",
       "        <td>346.0</td>\n",
       "    </tr>\n",
       "</table>"
      ],
      "text/plain": [
       "[('Mumbai', 'India', 'winter', 24.8, 5.9),\n",
       " ('Mumbai', 'India', 'spring', 28.4, 16.2),\n",
       " ('Mumbai', 'India', 'summer', 27.9, 1549.4),\n",
       " ('Mumbai', 'India', 'fall', 27.6, 346.0)]"
      ]
     },
     "execution_count": 8,
     "metadata": {},
     "output_type": "execute_result"
    }
   ],
   "source": [
    "%sql select * from mayur where country = 'India';"
   ]
  },
  {
   "cell_type": "code",
   "execution_count": 9,
   "id": "b080e4bb",
   "metadata": {},
   "outputs": [
    {
     "name": "stdout",
     "output_type": "stream",
     "text": [
      " * sqlite:///\n",
      "Done.\n"
     ]
    },
    {
     "data": {
      "text/html": [
       "<table>\n",
       "    <tr>\n",
       "        <th>city</th>\n",
       "        <th>country</th>\n",
       "        <th>season</th>\n",
       "        <th>temperature</th>\n",
       "        <th>rainfall</th>\n",
       "    </tr>\n",
       "    <tr>\n",
       "        <td>Mumbai</td>\n",
       "        <td>India</td>\n",
       "        <td>fall</td>\n",
       "        <td>27.6</td>\n",
       "        <td>346.0</td>\n",
       "    </tr>\n",
       "    <tr>\n",
       "        <td>London</td>\n",
       "        <td>United Kingdom</td>\n",
       "        <td>fall</td>\n",
       "        <td>10.4</td>\n",
       "        <td>218.5</td>\n",
       "    </tr>\n",
       "    <tr>\n",
       "        <td>Cairo</td>\n",
       "        <td>Egypt</td>\n",
       "        <td>fall</td>\n",
       "        <td>22.2</td>\n",
       "        <td>4.5</td>\n",
       "    </tr>\n",
       "</table>"
      ],
      "text/plain": [
       "[('Mumbai', 'India', 'fall', 27.6, 346.0),\n",
       " ('London', 'United Kingdom', 'fall', 10.4, 218.5),\n",
       " ('Cairo', 'Egypt', 'fall', 22.2, 4.5)]"
      ]
     },
     "execution_count": 9,
     "metadata": {},
     "output_type": "execute_result"
    }
   ],
   "source": [
    "%sql select * from mayur where season ='fall';"
   ]
  },
  {
   "cell_type": "code",
   "execution_count": 10,
   "id": "6f074600",
   "metadata": {},
   "outputs": [
    {
     "name": "stdout",
     "output_type": "stream",
     "text": [
      " * sqlite:///\n",
      "Done.\n"
     ]
    },
    {
     "data": {
      "text/html": [
       "<table>\n",
       "    <tr>\n",
       "        <th>city</th>\n",
       "        <th>country</th>\n",
       "        <th>season</th>\n",
       "    </tr>\n",
       "    <tr>\n",
       "        <td>Mumbai</td>\n",
       "        <td>India</td>\n",
       "        <td>fall</td>\n",
       "    </tr>\n",
       "    <tr>\n",
       "        <td>London</td>\n",
       "        <td>United Kingdom</td>\n",
       "        <td>winter</td>\n",
       "    </tr>\n",
       "    <tr>\n",
       "        <td>London</td>\n",
       "        <td>United Kingdom</td>\n",
       "        <td>fall</td>\n",
       "    </tr>\n",
       "</table>"
      ],
      "text/plain": [
       "[('Mumbai', 'India', 'fall'),\n",
       " ('London', 'United Kingdom', 'winter'),\n",
       " ('London', 'United Kingdom', 'fall')]"
      ]
     },
     "execution_count": 10,
     "metadata": {},
     "output_type": "execute_result"
    }
   ],
   "source": [
    "%sql select City, country, season from mayur where rainfall > 200 AND rainfall < 400;"
   ]
  },
  {
   "cell_type": "code",
   "execution_count": 11,
   "id": "07978831",
   "metadata": {},
   "outputs": [
    {
     "name": "stdout",
     "output_type": "stream",
     "text": [
      " * sqlite:///\n",
      "Done.\n"
     ]
    },
    {
     "data": {
      "text/html": [
       "<table>\n",
       "    <tr>\n",
       "        <th>city</th>\n",
       "        <th>country</th>\n",
       "    </tr>\n",
       "    <tr>\n",
       "        <td>Cairo</td>\n",
       "        <td>Egypt</td>\n",
       "    </tr>\n",
       "    <tr>\n",
       "        <td>Mumbai</td>\n",
       "        <td>India</td>\n",
       "    </tr>\n",
       "</table>"
      ],
      "text/plain": [
       "[('Cairo', 'Egypt'), ('Mumbai', 'India')]"
      ]
     },
     "execution_count": 11,
     "metadata": {},
     "output_type": "execute_result"
    }
   ],
   "source": [
    "%sql select city, country from mayur where season = 'fall' And temperature > 20 ORDER BY temperature;"
   ]
  },
  {
   "cell_type": "code",
   "execution_count": 12,
   "id": "71f15a44",
   "metadata": {},
   "outputs": [
    {
     "name": "stdout",
     "output_type": "stream",
     "text": [
      " * sqlite:///\n",
      "Done.\n"
     ]
    },
    {
     "data": {
      "text/html": [
       "<table>\n",
       "    <tr>\n",
       "        <th>sum(rainfall)</th>\n",
       "    </tr>\n",
       "    <tr>\n",
       "        <td>27.6</td>\n",
       "    </tr>\n",
       "</table>"
      ],
      "text/plain": [
       "[(27.6,)]"
      ]
     },
     "execution_count": 12,
     "metadata": {},
     "output_type": "execute_result"
    }
   ],
   "source": [
    "%sql select sum(rainfall) from mayur where city = 'Cairo';"
   ]
  },
  {
   "cell_type": "code",
   "execution_count": 13,
   "id": "4d988f1d",
   "metadata": {},
   "outputs": [
    {
     "name": "stdout",
     "output_type": "stream",
     "text": [
      " * sqlite:///\n",
      "Done.\n"
     ]
    },
    {
     "data": {
      "text/html": [
       "<table>\n",
       "    <tr>\n",
       "        <th>sum(rainfall)</th>\n",
       "    </tr>\n",
       "    <tr>\n",
       "        <td>569.0</td>\n",
       "    </tr>\n",
       "    <tr>\n",
       "        <td>169.6</td>\n",
       "    </tr>\n",
       "    <tr>\n",
       "        <td>22.7</td>\n",
       "    </tr>\n",
       "    <tr>\n",
       "        <td>1706.5</td>\n",
       "    </tr>\n",
       "    <tr>\n",
       "        <td>230.1</td>\n",
       "    </tr>\n",
       "</table>"
      ],
      "text/plain": [
       "[(569.0,), (169.6,), (22.7,), (1706.5,), (230.1,)]"
      ]
     },
     "execution_count": 13,
     "metadata": {},
     "output_type": "execute_result"
    }
   ],
   "source": [
    "%sql select sum(rainfall) from mayur group by season;"
   ]
  },
  {
   "cell_type": "markdown",
   "id": "8a342eef",
   "metadata": {},
   "source": [
    " <h4>Question 9\n",
    ". Suppose list words is defined as follows:</h4>\n",
    "<p>>>> words = ['The', 'quick', 'brown', 'fox', 'jumps', 'over', \n",
    "'the', 'lazy', 'dog']</p>\n",
    "<p>Write list comprehension expressions that use list words and generate the following \n",
    "lists:</p>\n",
    "<p>a) ['THE', 'QUICK', 'BROWN', 'FOX', 'JUMPS', 'OVER', 'THE', \n",
    "'LAZY', 'DOG']</p>\n",
    "<p>b) ['the', 'quick', 'brown', 'fox', 'jumps', 'over', 'the', \n",
    "'lazy', 'dog']</p>\n",
    "<p>c) [3, 5, 5, 3, 5, 4, 3, 4, 3] (the list of lengths of words in list \n",
    "words).</p>\n",
    "<p>d) [['THE', 'the', 3], ['QUICK', 'quick', 5], ['BROWN', \n",
    "'brown', 5], ['FOX', 'fox', 3], ['JUMPS', 'jumps', 5], \n",
    "['OVER', 'over', 4], ['THE', 'the', 3], ['LAZY', 'lazy', \n",
    "4], ['DOG', 'dog', 3]] (the list containing a list for every word of list \n",
    "words, where each list contains the word in uppercase and lowercase and the \n",
    "length of the word.)</p>\n",
    "<p>e) ['The', 'quick', 'brown', 'fox', 'jumps', 'over', 'the', \n",
    "'lazy', 'dog'] (the list of words in list words containing 4 or more \n",
    "characters.)</p>"
   ]
  },
  {
   "cell_type": "code",
   "execution_count": 83,
   "id": "c8a10559",
   "metadata": {},
   "outputs": [
    {
     "name": "stdout",
     "output_type": "stream",
     "text": [
      "['THE', 'QUICK', 'BROWN', 'FOX', 'JUMPS', 'OVER', 'THE', 'LAZY', 'DOG']\n",
      "['the', 'quick', 'brown', 'fox', 'jumps', 'over', 'the', 'lazy', 'dog']\n",
      "[3, 5, 5, 3, 5, 4, 3, 4, 3]\n",
      "[['THE', 'the', 3], ['QUICK', 'quick', 5], ['BROWN', 'brown', 5], ['FOX', 'fox', 3], ['JUMPS', 'jumps', 5], ['OVER', 'over', 4], ['THE', 'the', 3], ['LAZY', 'lazy', 4], ['DOG', 'dog', 3]]\n",
      "['quick', 'brown', 'jumps', 'over', 'lazy']\n"
     ]
    }
   ],
   "source": [
    "from itertools import combinations\n",
    "from operator import le\n",
    "\n",
    "words = ['The', 'quick', 'brown', 'fox', 'jumps', 'over', 'the', 'lazy', 'dog']\n",
    "\n",
    "caps = []\n",
    "lower = []\n",
    "length = []\n",
    "combination = []\n",
    "biggerThanFour = []\n",
    "\n",
    "for word in words:\n",
    "    caps.append(word.upper())\n",
    "    lower.append(word.lower())\n",
    "    length.append(len(word))\n",
    "    combination.append([word.upper(), word.lower(), len(word)])\n",
    "    if len(word) >= 4:\n",
    "        biggerThanFour.append(word)\n",
    "\n",
    "print(caps)\n",
    "print(lower)\n",
    "print(length)\n",
    "print(combination)\n",
    "print(biggerThanFour)\n"
   ]
  },
  {
   "cell_type": "code",
   "execution_count": null,
   "id": "2009b4d6",
   "metadata": {},
   "outputs": [],
   "source": []
  }
 ],
 "metadata": {
  "kernelspec": {
   "display_name": "Python 3 (ipykernel)",
   "language": "python",
   "name": "python3"
  },
  "language_info": {
   "codemirror_mode": {
    "name": "ipython",
    "version": 3
   },
   "file_extension": ".py",
   "mimetype": "text/x-python",
   "name": "python",
   "nbconvert_exporter": "python",
   "pygments_lexer": "ipython3",
   "version": "3.9.12"
  }
 },
 "nbformat": 4,
 "nbformat_minor": 5
}
